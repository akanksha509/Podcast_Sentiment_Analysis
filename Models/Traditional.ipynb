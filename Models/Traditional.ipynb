{
  "nbformat": 4,
  "nbformat_minor": 0,
  "metadata": {
    "colab": {
      "provenance": [],
      "gpuType": "T4"
    },
    "kernelspec": {
      "name": "python3",
      "display_name": "Python 3"
    },
    "language_info": {
      "name": "python"
    },
    "accelerator": "GPU"
  },
  "cells": [
    {
      "cell_type": "code",
      "execution_count": 2,
      "metadata": {
        "colab": {
          "base_uri": "https://localhost:8080/"
        },
        "id": "fPryiijlzEZd",
        "outputId": "c07904dd-c95a-4a0c-bdf8-5ce6e0bf3930"
      },
      "outputs": [
        {
          "output_type": "stream",
          "name": "stdout",
          "text": [
            "Requirement already satisfied: scikit-learn in /usr/local/lib/python3.10/dist-packages (1.5.2)\n",
            "Requirement already satisfied: transformers in /usr/local/lib/python3.10/dist-packages (4.44.2)\n",
            "Collecting datasets\n",
            "  Downloading datasets-3.0.1-py3-none-any.whl.metadata (20 kB)\n",
            "Requirement already satisfied: numpy>=1.19.5 in /usr/local/lib/python3.10/dist-packages (from scikit-learn) (1.26.4)\n",
            "Requirement already satisfied: scipy>=1.6.0 in /usr/local/lib/python3.10/dist-packages (from scikit-learn) (1.13.1)\n",
            "Requirement already satisfied: joblib>=1.2.0 in /usr/local/lib/python3.10/dist-packages (from scikit-learn) (1.4.2)\n",
            "Requirement already satisfied: threadpoolctl>=3.1.0 in /usr/local/lib/python3.10/dist-packages (from scikit-learn) (3.5.0)\n",
            "Requirement already satisfied: filelock in /usr/local/lib/python3.10/dist-packages (from transformers) (3.16.1)\n",
            "Requirement already satisfied: huggingface-hub<1.0,>=0.23.2 in /usr/local/lib/python3.10/dist-packages (from transformers) (0.24.7)\n",
            "Requirement already satisfied: packaging>=20.0 in /usr/local/lib/python3.10/dist-packages (from transformers) (24.1)\n",
            "Requirement already satisfied: pyyaml>=5.1 in /usr/local/lib/python3.10/dist-packages (from transformers) (6.0.2)\n",
            "Requirement already satisfied: regex!=2019.12.17 in /usr/local/lib/python3.10/dist-packages (from transformers) (2024.9.11)\n",
            "Requirement already satisfied: requests in /usr/local/lib/python3.10/dist-packages (from transformers) (2.32.3)\n",
            "Requirement already satisfied: safetensors>=0.4.1 in /usr/local/lib/python3.10/dist-packages (from transformers) (0.4.5)\n",
            "Requirement already satisfied: tokenizers<0.20,>=0.19 in /usr/local/lib/python3.10/dist-packages (from transformers) (0.19.1)\n",
            "Requirement already satisfied: tqdm>=4.27 in /usr/local/lib/python3.10/dist-packages (from transformers) (4.66.5)\n",
            "Requirement already satisfied: pyarrow>=15.0.0 in /usr/local/lib/python3.10/dist-packages (from datasets) (16.1.0)\n",
            "Collecting dill<0.3.9,>=0.3.0 (from datasets)\n",
            "  Downloading dill-0.3.8-py3-none-any.whl.metadata (10 kB)\n",
            "Requirement already satisfied: pandas in /usr/local/lib/python3.10/dist-packages (from datasets) (2.2.2)\n",
            "Collecting xxhash (from datasets)\n",
            "  Downloading xxhash-3.5.0-cp310-cp310-manylinux_2_17_x86_64.manylinux2014_x86_64.whl.metadata (12 kB)\n",
            "Collecting multiprocess (from datasets)\n",
            "  Downloading multiprocess-0.70.17-py310-none-any.whl.metadata (7.2 kB)\n",
            "Requirement already satisfied: fsspec<=2024.6.1,>=2023.1.0 in /usr/local/lib/python3.10/dist-packages (from fsspec[http]<=2024.6.1,>=2023.1.0->datasets) (2024.6.1)\n",
            "Requirement already satisfied: aiohttp in /usr/local/lib/python3.10/dist-packages (from datasets) (3.10.8)\n",
            "Requirement already satisfied: aiohappyeyeballs>=2.3.0 in /usr/local/lib/python3.10/dist-packages (from aiohttp->datasets) (2.4.3)\n",
            "Requirement already satisfied: aiosignal>=1.1.2 in /usr/local/lib/python3.10/dist-packages (from aiohttp->datasets) (1.3.1)\n",
            "Requirement already satisfied: attrs>=17.3.0 in /usr/local/lib/python3.10/dist-packages (from aiohttp->datasets) (24.2.0)\n",
            "Requirement already satisfied: frozenlist>=1.1.1 in /usr/local/lib/python3.10/dist-packages (from aiohttp->datasets) (1.4.1)\n",
            "Requirement already satisfied: multidict<7.0,>=4.5 in /usr/local/lib/python3.10/dist-packages (from aiohttp->datasets) (6.1.0)\n",
            "Requirement already satisfied: yarl<2.0,>=1.12.0 in /usr/local/lib/python3.10/dist-packages (from aiohttp->datasets) (1.13.1)\n",
            "Requirement already satisfied: async-timeout<5.0,>=4.0 in /usr/local/lib/python3.10/dist-packages (from aiohttp->datasets) (4.0.3)\n",
            "Requirement already satisfied: typing-extensions>=3.7.4.3 in /usr/local/lib/python3.10/dist-packages (from huggingface-hub<1.0,>=0.23.2->transformers) (4.12.2)\n",
            "Requirement already satisfied: charset-normalizer<4,>=2 in /usr/local/lib/python3.10/dist-packages (from requests->transformers) (3.3.2)\n",
            "Requirement already satisfied: idna<4,>=2.5 in /usr/local/lib/python3.10/dist-packages (from requests->transformers) (3.10)\n",
            "Requirement already satisfied: urllib3<3,>=1.21.1 in /usr/local/lib/python3.10/dist-packages (from requests->transformers) (2.2.3)\n",
            "Requirement already satisfied: certifi>=2017.4.17 in /usr/local/lib/python3.10/dist-packages (from requests->transformers) (2024.8.30)\n",
            "INFO: pip is looking at multiple versions of multiprocess to determine which version is compatible with other requirements. This could take a while.\n",
            "  Downloading multiprocess-0.70.16-py310-none-any.whl.metadata (7.2 kB)\n",
            "Requirement already satisfied: python-dateutil>=2.8.2 in /usr/local/lib/python3.10/dist-packages (from pandas->datasets) (2.8.2)\n",
            "Requirement already satisfied: pytz>=2020.1 in /usr/local/lib/python3.10/dist-packages (from pandas->datasets) (2024.2)\n",
            "Requirement already satisfied: tzdata>=2022.7 in /usr/local/lib/python3.10/dist-packages (from pandas->datasets) (2024.2)\n",
            "Requirement already satisfied: six>=1.5 in /usr/local/lib/python3.10/dist-packages (from python-dateutil>=2.8.2->pandas->datasets) (1.16.0)\n",
            "Downloading datasets-3.0.1-py3-none-any.whl (471 kB)\n",
            "\u001b[2K   \u001b[90m━━━━━━━━━━━━━━━━━━━━━━━━━━━━━━━━━━━━━━━━\u001b[0m \u001b[32m471.6/471.6 kB\u001b[0m \u001b[31m10.2 MB/s\u001b[0m eta \u001b[36m0:00:00\u001b[0m\n",
            "\u001b[?25hDownloading dill-0.3.8-py3-none-any.whl (116 kB)\n",
            "\u001b[2K   \u001b[90m━━━━━━━━━━━━━━━━━━━━━━━━━━━━━━━━━━━━━━━━\u001b[0m \u001b[32m116.3/116.3 kB\u001b[0m \u001b[31m8.0 MB/s\u001b[0m eta \u001b[36m0:00:00\u001b[0m\n",
            "\u001b[?25hDownloading multiprocess-0.70.16-py310-none-any.whl (134 kB)\n",
            "\u001b[2K   \u001b[90m━━━━━━━━━━━━━━━━━━━━━━━━━━━━━━━━━━━━━━━━\u001b[0m \u001b[32m134.8/134.8 kB\u001b[0m \u001b[31m10.3 MB/s\u001b[0m eta \u001b[36m0:00:00\u001b[0m\n",
            "\u001b[?25hDownloading xxhash-3.5.0-cp310-cp310-manylinux_2_17_x86_64.manylinux2014_x86_64.whl (194 kB)\n",
            "\u001b[2K   \u001b[90m━━━━━━━━━━━━━━━━━━━━━━━━━━━━━━━━━━━━━━━━\u001b[0m \u001b[32m194.1/194.1 kB\u001b[0m \u001b[31m14.2 MB/s\u001b[0m eta \u001b[36m0:00:00\u001b[0m\n",
            "\u001b[?25hInstalling collected packages: xxhash, dill, multiprocess, datasets\n",
            "Successfully installed datasets-3.0.1 dill-0.3.8 multiprocess-0.70.16 xxhash-3.5.0\n"
          ]
        }
      ],
      "source": [
        "!pip install scikit-learn transformers datasets\n"
      ]
    },
    {
      "cell_type": "code",
      "source": [
        "from google.colab import files\n",
        "uploaded = files.upload()"
      ],
      "metadata": {
        "colab": {
          "base_uri": "https://localhost:8080/",
          "height": 73
        },
        "id": "pQawmG0XzRBF",
        "outputId": "1c59e47c-9bcf-47d5-adc8-24995fbf982a"
      },
      "execution_count": 3,
      "outputs": [
        {
          "output_type": "display_data",
          "data": {
            "text/plain": [
              "<IPython.core.display.HTML object>"
            ],
            "text/html": [
              "\n",
              "     <input type=\"file\" id=\"files-c6f59e97-184f-4f44-ad64-4256bbcd54d5\" name=\"files[]\" multiple disabled\n",
              "        style=\"border:none\" />\n",
              "     <output id=\"result-c6f59e97-184f-4f44-ad64-4256bbcd54d5\">\n",
              "      Upload widget is only available when the cell has been executed in the\n",
              "      current browser session. Please rerun this cell to enable.\n",
              "      </output>\n",
              "      <script>// Copyright 2017 Google LLC\n",
              "//\n",
              "// Licensed under the Apache License, Version 2.0 (the \"License\");\n",
              "// you may not use this file except in compliance with the License.\n",
              "// You may obtain a copy of the License at\n",
              "//\n",
              "//      http://www.apache.org/licenses/LICENSE-2.0\n",
              "//\n",
              "// Unless required by applicable law or agreed to in writing, software\n",
              "// distributed under the License is distributed on an \"AS IS\" BASIS,\n",
              "// WITHOUT WARRANTIES OR CONDITIONS OF ANY KIND, either express or implied.\n",
              "// See the License for the specific language governing permissions and\n",
              "// limitations under the License.\n",
              "\n",
              "/**\n",
              " * @fileoverview Helpers for google.colab Python module.\n",
              " */\n",
              "(function(scope) {\n",
              "function span(text, styleAttributes = {}) {\n",
              "  const element = document.createElement('span');\n",
              "  element.textContent = text;\n",
              "  for (const key of Object.keys(styleAttributes)) {\n",
              "    element.style[key] = styleAttributes[key];\n",
              "  }\n",
              "  return element;\n",
              "}\n",
              "\n",
              "// Max number of bytes which will be uploaded at a time.\n",
              "const MAX_PAYLOAD_SIZE = 100 * 1024;\n",
              "\n",
              "function _uploadFiles(inputId, outputId) {\n",
              "  const steps = uploadFilesStep(inputId, outputId);\n",
              "  const outputElement = document.getElementById(outputId);\n",
              "  // Cache steps on the outputElement to make it available for the next call\n",
              "  // to uploadFilesContinue from Python.\n",
              "  outputElement.steps = steps;\n",
              "\n",
              "  return _uploadFilesContinue(outputId);\n",
              "}\n",
              "\n",
              "// This is roughly an async generator (not supported in the browser yet),\n",
              "// where there are multiple asynchronous steps and the Python side is going\n",
              "// to poll for completion of each step.\n",
              "// This uses a Promise to block the python side on completion of each step,\n",
              "// then passes the result of the previous step as the input to the next step.\n",
              "function _uploadFilesContinue(outputId) {\n",
              "  const outputElement = document.getElementById(outputId);\n",
              "  const steps = outputElement.steps;\n",
              "\n",
              "  const next = steps.next(outputElement.lastPromiseValue);\n",
              "  return Promise.resolve(next.value.promise).then((value) => {\n",
              "    // Cache the last promise value to make it available to the next\n",
              "    // step of the generator.\n",
              "    outputElement.lastPromiseValue = value;\n",
              "    return next.value.response;\n",
              "  });\n",
              "}\n",
              "\n",
              "/**\n",
              " * Generator function which is called between each async step of the upload\n",
              " * process.\n",
              " * @param {string} inputId Element ID of the input file picker element.\n",
              " * @param {string} outputId Element ID of the output display.\n",
              " * @return {!Iterable<!Object>} Iterable of next steps.\n",
              " */\n",
              "function* uploadFilesStep(inputId, outputId) {\n",
              "  const inputElement = document.getElementById(inputId);\n",
              "  inputElement.disabled = false;\n",
              "\n",
              "  const outputElement = document.getElementById(outputId);\n",
              "  outputElement.innerHTML = '';\n",
              "\n",
              "  const pickedPromise = new Promise((resolve) => {\n",
              "    inputElement.addEventListener('change', (e) => {\n",
              "      resolve(e.target.files);\n",
              "    });\n",
              "  });\n",
              "\n",
              "  const cancel = document.createElement('button');\n",
              "  inputElement.parentElement.appendChild(cancel);\n",
              "  cancel.textContent = 'Cancel upload';\n",
              "  const cancelPromise = new Promise((resolve) => {\n",
              "    cancel.onclick = () => {\n",
              "      resolve(null);\n",
              "    };\n",
              "  });\n",
              "\n",
              "  // Wait for the user to pick the files.\n",
              "  const files = yield {\n",
              "    promise: Promise.race([pickedPromise, cancelPromise]),\n",
              "    response: {\n",
              "      action: 'starting',\n",
              "    }\n",
              "  };\n",
              "\n",
              "  cancel.remove();\n",
              "\n",
              "  // Disable the input element since further picks are not allowed.\n",
              "  inputElement.disabled = true;\n",
              "\n",
              "  if (!files) {\n",
              "    return {\n",
              "      response: {\n",
              "        action: 'complete',\n",
              "      }\n",
              "    };\n",
              "  }\n",
              "\n",
              "  for (const file of files) {\n",
              "    const li = document.createElement('li');\n",
              "    li.append(span(file.name, {fontWeight: 'bold'}));\n",
              "    li.append(span(\n",
              "        `(${file.type || 'n/a'}) - ${file.size} bytes, ` +\n",
              "        `last modified: ${\n",
              "            file.lastModifiedDate ? file.lastModifiedDate.toLocaleDateString() :\n",
              "                                    'n/a'} - `));\n",
              "    const percent = span('0% done');\n",
              "    li.appendChild(percent);\n",
              "\n",
              "    outputElement.appendChild(li);\n",
              "\n",
              "    const fileDataPromise = new Promise((resolve) => {\n",
              "      const reader = new FileReader();\n",
              "      reader.onload = (e) => {\n",
              "        resolve(e.target.result);\n",
              "      };\n",
              "      reader.readAsArrayBuffer(file);\n",
              "    });\n",
              "    // Wait for the data to be ready.\n",
              "    let fileData = yield {\n",
              "      promise: fileDataPromise,\n",
              "      response: {\n",
              "        action: 'continue',\n",
              "      }\n",
              "    };\n",
              "\n",
              "    // Use a chunked sending to avoid message size limits. See b/62115660.\n",
              "    let position = 0;\n",
              "    do {\n",
              "      const length = Math.min(fileData.byteLength - position, MAX_PAYLOAD_SIZE);\n",
              "      const chunk = new Uint8Array(fileData, position, length);\n",
              "      position += length;\n",
              "\n",
              "      const base64 = btoa(String.fromCharCode.apply(null, chunk));\n",
              "      yield {\n",
              "        response: {\n",
              "          action: 'append',\n",
              "          file: file.name,\n",
              "          data: base64,\n",
              "        },\n",
              "      };\n",
              "\n",
              "      let percentDone = fileData.byteLength === 0 ?\n",
              "          100 :\n",
              "          Math.round((position / fileData.byteLength) * 100);\n",
              "      percent.textContent = `${percentDone}% done`;\n",
              "\n",
              "    } while (position < fileData.byteLength);\n",
              "  }\n",
              "\n",
              "  // All done.\n",
              "  yield {\n",
              "    response: {\n",
              "      action: 'complete',\n",
              "    }\n",
              "  };\n",
              "}\n",
              "\n",
              "scope.google = scope.google || {};\n",
              "scope.google.colab = scope.google.colab || {};\n",
              "scope.google.colab._files = {\n",
              "  _uploadFiles,\n",
              "  _uploadFilesContinue,\n",
              "};\n",
              "})(self);\n",
              "</script> "
            ]
          },
          "metadata": {}
        },
        {
          "output_type": "stream",
          "name": "stdout",
          "text": [
            "Saving shakespeare-sentiment.csv to shakespeare-sentiment.csv\n"
          ]
        }
      ]
    },
    {
      "cell_type": "code",
      "source": [
        "from google.colab import files\n",
        "uploaded = files.upload()"
      ],
      "metadata": {
        "colab": {
          "base_uri": "https://localhost:8080/",
          "height": 73
        },
        "id": "-WC-yWkfzbKd",
        "outputId": "dfd91f9f-b2b4-4ee9-babc-928628b7f653"
      },
      "execution_count": 4,
      "outputs": [
        {
          "output_type": "display_data",
          "data": {
            "text/plain": [
              "<IPython.core.display.HTML object>"
            ],
            "text/html": [
              "\n",
              "     <input type=\"file\" id=\"files-a3164f8e-e948-43c6-8979-00a3c0609ff7\" name=\"files[]\" multiple disabled\n",
              "        style=\"border:none\" />\n",
              "     <output id=\"result-a3164f8e-e948-43c6-8979-00a3c0609ff7\">\n",
              "      Upload widget is only available when the cell has been executed in the\n",
              "      current browser session. Please rerun this cell to enable.\n",
              "      </output>\n",
              "      <script>// Copyright 2017 Google LLC\n",
              "//\n",
              "// Licensed under the Apache License, Version 2.0 (the \"License\");\n",
              "// you may not use this file except in compliance with the License.\n",
              "// You may obtain a copy of the License at\n",
              "//\n",
              "//      http://www.apache.org/licenses/LICENSE-2.0\n",
              "//\n",
              "// Unless required by applicable law or agreed to in writing, software\n",
              "// distributed under the License is distributed on an \"AS IS\" BASIS,\n",
              "// WITHOUT WARRANTIES OR CONDITIONS OF ANY KIND, either express or implied.\n",
              "// See the License for the specific language governing permissions and\n",
              "// limitations under the License.\n",
              "\n",
              "/**\n",
              " * @fileoverview Helpers for google.colab Python module.\n",
              " */\n",
              "(function(scope) {\n",
              "function span(text, styleAttributes = {}) {\n",
              "  const element = document.createElement('span');\n",
              "  element.textContent = text;\n",
              "  for (const key of Object.keys(styleAttributes)) {\n",
              "    element.style[key] = styleAttributes[key];\n",
              "  }\n",
              "  return element;\n",
              "}\n",
              "\n",
              "// Max number of bytes which will be uploaded at a time.\n",
              "const MAX_PAYLOAD_SIZE = 100 * 1024;\n",
              "\n",
              "function _uploadFiles(inputId, outputId) {\n",
              "  const steps = uploadFilesStep(inputId, outputId);\n",
              "  const outputElement = document.getElementById(outputId);\n",
              "  // Cache steps on the outputElement to make it available for the next call\n",
              "  // to uploadFilesContinue from Python.\n",
              "  outputElement.steps = steps;\n",
              "\n",
              "  return _uploadFilesContinue(outputId);\n",
              "}\n",
              "\n",
              "// This is roughly an async generator (not supported in the browser yet),\n",
              "// where there are multiple asynchronous steps and the Python side is going\n",
              "// to poll for completion of each step.\n",
              "// This uses a Promise to block the python side on completion of each step,\n",
              "// then passes the result of the previous step as the input to the next step.\n",
              "function _uploadFilesContinue(outputId) {\n",
              "  const outputElement = document.getElementById(outputId);\n",
              "  const steps = outputElement.steps;\n",
              "\n",
              "  const next = steps.next(outputElement.lastPromiseValue);\n",
              "  return Promise.resolve(next.value.promise).then((value) => {\n",
              "    // Cache the last promise value to make it available to the next\n",
              "    // step of the generator.\n",
              "    outputElement.lastPromiseValue = value;\n",
              "    return next.value.response;\n",
              "  });\n",
              "}\n",
              "\n",
              "/**\n",
              " * Generator function which is called between each async step of the upload\n",
              " * process.\n",
              " * @param {string} inputId Element ID of the input file picker element.\n",
              " * @param {string} outputId Element ID of the output display.\n",
              " * @return {!Iterable<!Object>} Iterable of next steps.\n",
              " */\n",
              "function* uploadFilesStep(inputId, outputId) {\n",
              "  const inputElement = document.getElementById(inputId);\n",
              "  inputElement.disabled = false;\n",
              "\n",
              "  const outputElement = document.getElementById(outputId);\n",
              "  outputElement.innerHTML = '';\n",
              "\n",
              "  const pickedPromise = new Promise((resolve) => {\n",
              "    inputElement.addEventListener('change', (e) => {\n",
              "      resolve(e.target.files);\n",
              "    });\n",
              "  });\n",
              "\n",
              "  const cancel = document.createElement('button');\n",
              "  inputElement.parentElement.appendChild(cancel);\n",
              "  cancel.textContent = 'Cancel upload';\n",
              "  const cancelPromise = new Promise((resolve) => {\n",
              "    cancel.onclick = () => {\n",
              "      resolve(null);\n",
              "    };\n",
              "  });\n",
              "\n",
              "  // Wait for the user to pick the files.\n",
              "  const files = yield {\n",
              "    promise: Promise.race([pickedPromise, cancelPromise]),\n",
              "    response: {\n",
              "      action: 'starting',\n",
              "    }\n",
              "  };\n",
              "\n",
              "  cancel.remove();\n",
              "\n",
              "  // Disable the input element since further picks are not allowed.\n",
              "  inputElement.disabled = true;\n",
              "\n",
              "  if (!files) {\n",
              "    return {\n",
              "      response: {\n",
              "        action: 'complete',\n",
              "      }\n",
              "    };\n",
              "  }\n",
              "\n",
              "  for (const file of files) {\n",
              "    const li = document.createElement('li');\n",
              "    li.append(span(file.name, {fontWeight: 'bold'}));\n",
              "    li.append(span(\n",
              "        `(${file.type || 'n/a'}) - ${file.size} bytes, ` +\n",
              "        `last modified: ${\n",
              "            file.lastModifiedDate ? file.lastModifiedDate.toLocaleDateString() :\n",
              "                                    'n/a'} - `));\n",
              "    const percent = span('0% done');\n",
              "    li.appendChild(percent);\n",
              "\n",
              "    outputElement.appendChild(li);\n",
              "\n",
              "    const fileDataPromise = new Promise((resolve) => {\n",
              "      const reader = new FileReader();\n",
              "      reader.onload = (e) => {\n",
              "        resolve(e.target.result);\n",
              "      };\n",
              "      reader.readAsArrayBuffer(file);\n",
              "    });\n",
              "    // Wait for the data to be ready.\n",
              "    let fileData = yield {\n",
              "      promise: fileDataPromise,\n",
              "      response: {\n",
              "        action: 'continue',\n",
              "      }\n",
              "    };\n",
              "\n",
              "    // Use a chunked sending to avoid message size limits. See b/62115660.\n",
              "    let position = 0;\n",
              "    do {\n",
              "      const length = Math.min(fileData.byteLength - position, MAX_PAYLOAD_SIZE);\n",
              "      const chunk = new Uint8Array(fileData, position, length);\n",
              "      position += length;\n",
              "\n",
              "      const base64 = btoa(String.fromCharCode.apply(null, chunk));\n",
              "      yield {\n",
              "        response: {\n",
              "          action: 'append',\n",
              "          file: file.name,\n",
              "          data: base64,\n",
              "        },\n",
              "      };\n",
              "\n",
              "      let percentDone = fileData.byteLength === 0 ?\n",
              "          100 :\n",
              "          Math.round((position / fileData.byteLength) * 100);\n",
              "      percent.textContent = `${percentDone}% done`;\n",
              "\n",
              "    } while (position < fileData.byteLength);\n",
              "  }\n",
              "\n",
              "  // All done.\n",
              "  yield {\n",
              "    response: {\n",
              "      action: 'complete',\n",
              "    }\n",
              "  };\n",
              "}\n",
              "\n",
              "scope.google = scope.google || {};\n",
              "scope.google.colab = scope.google.colab || {};\n",
              "scope.google.colab._files = {\n",
              "  _uploadFiles,\n",
              "  _uploadFilesContinue,\n",
              "};\n",
              "})(self);\n",
              "</script> "
            ]
          },
          "metadata": {}
        },
        {
          "output_type": "stream",
          "name": "stdout",
          "text": [
            "Saving test_sent_emo.csv to test_sent_emo.csv\n"
          ]
        }
      ]
    },
    {
      "cell_type": "code",
      "source": [
        "import pandas as pd\n",
        "\n",
        "# Load datasets\n",
        "shakespeare_sentiment = pd.read_csv('shakespeare-sentiment.csv')\n",
        "test_sent_emo = pd.read_csv('test_sent_emo.csv')\n",
        "\n",
        "# Display first few rows of each dataset\n",
        "print(shakespeare_sentiment.head())\n",
        "print(test_sent_emo.head())"
      ],
      "metadata": {
        "colab": {
          "base_uri": "https://localhost:8080/"
        },
        "id": "mTIHR5aSzfOt",
        "outputId": "b99e10ad-8b1e-43d7-ff41-0f3a53b96b62"
      },
      "execution_count": 5,
      "outputs": [
        {
          "output_type": "stream",
          "name": "stdout",
          "text": [
            "                                                text  start    end sentiment  \\\n",
            "0  With no fees or minimums, banking with Capital...    330  10106  POSITIVE   \n",
            "1  And with no overdraft fees, is it even a decis...  10218  14666   NEUTRAL   \n",
            "2                       What's in your wallet terms?  14778  16302   NEUTRAL   \n",
            "3                                             Apply.  16356  16766   NEUTRAL   \n",
            "4  See capitalone.com Slash Bank Capital one NA m...  16868  24634  POSITIVE   \n",
            "\n",
            "   confidence  speaker  \n",
            "0    0.938870      NaN  \n",
            "1    0.723502      NaN  \n",
            "2    0.871523      NaN  \n",
            "3    0.620469      NaN  \n",
            "4    0.511470      NaN  \n",
            "   Sr No.                                          Utterance Speaker  \\\n",
            "0       1  Why do all youre coffee mugs have numbers on ...    Mark   \n",
            "1       2  Oh. Thats so Monica can keep track. That way ...  Rachel   \n",
            "2       3                                       Y'know what?  Rachel   \n",
            "3      19                     Come on, Lydia, you can do it.    Joey   \n",
            "4      20                                              Push!    Joey   \n",
            "\n",
            "    Emotion Sentiment  Dialogue_ID  Utterance_ID  Season  Episode  \\\n",
            "0  surprise  positive            0             0       3       19   \n",
            "1     anger  negative            0             1       3       19   \n",
            "2   neutral   neutral            0             2       3       19   \n",
            "3   neutral   neutral            1             0       1       23   \n",
            "4       joy  positive            1             1       1       23   \n",
            "\n",
            "      StartTime       EndTime  \n",
            "0  00:14:38,127  00:14:40,378  \n",
            "1  00:14:40,629  00:14:47,385  \n",
            "2  00:14:56,353  00:14:57,520  \n",
            "3   0:10:44,769   0:10:46,146  \n",
            "4   0:10:46,146   0:10:46,833  \n"
          ]
        }
      ]
    },
    {
      "cell_type": "code",
      "source": [
        "from sklearn.model_selection import train_test_split\n"
      ],
      "metadata": {
        "id": "bedGJSTnz5xt"
      },
      "execution_count": 6,
      "outputs": []
    },
    {
      "cell_type": "code",
      "source": [
        "# Print the column names of both datasets to identify the actual column names\n",
        "print(shakespeare_sentiment.columns)\n",
        "print(test_sent_emo.columns)\n"
      ],
      "metadata": {
        "colab": {
          "base_uri": "https://localhost:8080/"
        },
        "id": "e1KibtJj0FZi",
        "outputId": "f83f3e7c-55cb-44ce-e42a-e2350aeee9a7"
      },
      "execution_count": 7,
      "outputs": [
        {
          "output_type": "stream",
          "name": "stdout",
          "text": [
            "Index(['text', 'start', 'end', 'sentiment', 'confidence', 'speaker'], dtype='object')\n",
            "Index(['Sr No.', 'Utterance', 'Speaker', 'Emotion', 'Sentiment', 'Dialogue_ID',\n",
            "       'Utterance_ID', 'Season', 'Episode', 'StartTime', 'EndTime'],\n",
            "      dtype='object')\n"
          ]
        }
      ]
    },
    {
      "cell_type": "code",
      "source": [
        "def split_data(df, text_column, label_column):\n",
        "    \"\"\"\n",
        "    Split dataset into train (80%), validation (10%), and test (10%) sets.\n",
        "\n",
        "    Args:\n",
        "    df (DataFrame): Input dataframe with text and labels.\n",
        "    text_column (str): The column name for text data.\n",
        "    label_column (str): The column name for labels (sentiment/emotion).\n",
        "\n",
        "    Returns:\n",
        "    X_train, X_val, X_test, y_train, y_val, y_test: Split data.\n",
        "    \"\"\"\n",
        "    # Extract text and labels\n",
        "    X = df[text_column]\n",
        "    y = df[label_column]\n",
        "\n",
        "    # First split: 80% train, 20% temp\n",
        "    X_train, X_temp, y_train, y_temp = train_test_split(X, y, test_size=0.2, random_state=42)\n",
        "\n",
        "    # Second split: 50% validation, 50% test from the 20% temp set\n",
        "    X_val, X_test, y_val, y_test = train_test_split(X_temp, y_temp, test_size=0.5, random_state=42)\n",
        "\n",
        "    return X_train, X_val, X_test, y_train, y_val, y_test\n",
        "\n",
        "# Split Shakespeare Sentiment Dataset using 'text' and 'sentiment'\n",
        "X_train_s, X_val_s, X_test_s, y_train_s, y_val_s, y_test_s = split_data(shakespeare_sentiment, 'text', 'sentiment')\n",
        "\n",
        "# Split test_sent_emo Dataset using 'Utterance' and 'Sentiment'\n",
        "X_train_e, X_val_e, X_test_e, y_train_e, y_val_e, y_test_e = split_data(test_sent_emo, 'Utterance', 'Sentiment')\n",
        "\n",
        "# Check the split\n",
        "print(\"Shakespeare Sentiment Train Size:\", len(X_train_s))\n",
        "print(\"Shakespeare Sentiment Validation Size:\", len(X_val_s))\n",
        "print(\"Shakespeare Sentiment Test Size:\", len(X_test_s))\n",
        "\n",
        "print(\"test_sent_emo Train Size:\", len(X_train_e))\n",
        "print(\"test_sent_emo Validation Size:\", len(X_val_e))\n",
        "print(\"test_sent_emo Test Size:\", len(X_test_e))"
      ],
      "metadata": {
        "colab": {
          "base_uri": "https://localhost:8080/"
        },
        "id": "ATI2Lp38zqTJ",
        "outputId": "5017d6ef-ac89-4ada-dcab-c526eb4e6a9a"
      },
      "execution_count": 8,
      "outputs": [
        {
          "output_type": "stream",
          "name": "stdout",
          "text": [
            "Shakespeare Sentiment Train Size: 616\n",
            "Shakespeare Sentiment Validation Size: 77\n",
            "Shakespeare Sentiment Test Size: 77\n",
            "test_sent_emo Train Size: 2088\n",
            "test_sent_emo Validation Size: 261\n",
            "test_sent_emo Test Size: 261\n"
          ]
        }
      ]
    },
    {
      "cell_type": "code",
      "source": [
        "from sklearn.feature_extraction.text import TfidfVectorizer\n",
        "from sklearn.naive_bayes import MultinomialNB\n",
        "from sklearn.svm import LinearSVC\n",
        "from sklearn.linear_model import LogisticRegression, SGDClassifier\n",
        "from sklearn.metrics import accuracy_score, f1_score, precision_score, recall_score"
      ],
      "metadata": {
        "id": "fS3bBAZi0V44"
      },
      "execution_count": 9,
      "outputs": []
    },
    {
      "cell_type": "code",
      "source": [
        "!pip install scikit-plot\n"
      ],
      "metadata": {
        "colab": {
          "base_uri": "https://localhost:8080/"
        },
        "id": "fBD1Uf4i4pSm",
        "outputId": "f3279b18-bb87-4c89-95ca-e333010e79e0"
      },
      "execution_count": 10,
      "outputs": [
        {
          "output_type": "stream",
          "name": "stdout",
          "text": [
            "Collecting scikit-plot\n",
            "  Downloading scikit_plot-0.3.7-py3-none-any.whl.metadata (7.1 kB)\n",
            "Requirement already satisfied: matplotlib>=1.4.0 in /usr/local/lib/python3.10/dist-packages (from scikit-plot) (3.7.1)\n",
            "Requirement already satisfied: scikit-learn>=0.18 in /usr/local/lib/python3.10/dist-packages (from scikit-plot) (1.5.2)\n",
            "Requirement already satisfied: scipy>=0.9 in /usr/local/lib/python3.10/dist-packages (from scikit-plot) (1.13.1)\n",
            "Requirement already satisfied: joblib>=0.10 in /usr/local/lib/python3.10/dist-packages (from scikit-plot) (1.4.2)\n",
            "Requirement already satisfied: contourpy>=1.0.1 in /usr/local/lib/python3.10/dist-packages (from matplotlib>=1.4.0->scikit-plot) (1.3.0)\n",
            "Requirement already satisfied: cycler>=0.10 in /usr/local/lib/python3.10/dist-packages (from matplotlib>=1.4.0->scikit-plot) (0.12.1)\n",
            "Requirement already satisfied: fonttools>=4.22.0 in /usr/local/lib/python3.10/dist-packages (from matplotlib>=1.4.0->scikit-plot) (4.54.1)\n",
            "Requirement already satisfied: kiwisolver>=1.0.1 in /usr/local/lib/python3.10/dist-packages (from matplotlib>=1.4.0->scikit-plot) (1.4.7)\n",
            "Requirement already satisfied: numpy>=1.20 in /usr/local/lib/python3.10/dist-packages (from matplotlib>=1.4.0->scikit-plot) (1.26.4)\n",
            "Requirement already satisfied: packaging>=20.0 in /usr/local/lib/python3.10/dist-packages (from matplotlib>=1.4.0->scikit-plot) (24.1)\n",
            "Requirement already satisfied: pillow>=6.2.0 in /usr/local/lib/python3.10/dist-packages (from matplotlib>=1.4.0->scikit-plot) (10.4.0)\n",
            "Requirement already satisfied: pyparsing>=2.3.1 in /usr/local/lib/python3.10/dist-packages (from matplotlib>=1.4.0->scikit-plot) (3.1.4)\n",
            "Requirement already satisfied: python-dateutil>=2.7 in /usr/local/lib/python3.10/dist-packages (from matplotlib>=1.4.0->scikit-plot) (2.8.2)\n",
            "Requirement already satisfied: threadpoolctl>=3.1.0 in /usr/local/lib/python3.10/dist-packages (from scikit-learn>=0.18->scikit-plot) (3.5.0)\n",
            "Requirement already satisfied: six>=1.5 in /usr/local/lib/python3.10/dist-packages (from python-dateutil>=2.7->matplotlib>=1.4.0->scikit-plot) (1.16.0)\n",
            "Downloading scikit_plot-0.3.7-py3-none-any.whl (33 kB)\n",
            "Installing collected packages: scikit-plot\n",
            "Successfully installed scikit-plot-0.3.7\n"
          ]
        }
      ]
    },
    {
      "cell_type": "code",
      "source": [
        "import matplotlib.pyplot as plt\n",
        "from sklearn.metrics import roc_auc_score, roc_curve, confusion_matrix, ConfusionMatrixDisplay\n",
        "import numpy as np\n"
      ],
      "metadata": {
        "id": "BahwFwvG46Gy"
      },
      "execution_count": 11,
      "outputs": []
    },
    {
      "cell_type": "code",
      "source": [
        "def preprocess_tfidf(X_train, X_val, X_test):\n",
        "    vectorizer = TfidfVectorizer(max_features=5000)\n",
        "    X_train_tfidf = vectorizer.fit_transform(X_train)\n",
        "    X_val_tfidf = vectorizer.transform(X_val)\n",
        "    X_test_tfidf = vectorizer.transform(X_test)\n",
        "    return X_train_tfidf, X_val_tfidf, X_test_tfidf"
      ],
      "metadata": {
        "id": "wgkbmxo41JBh"
      },
      "execution_count": 12,
      "outputs": []
    },
    {
      "cell_type": "code",
      "source": [
        "vectorizer_s = TfidfVectorizer()\n",
        "X_train_tfidf_s = vectorizer_s.fit_transform(X_train_s)  # Fit on train set\n",
        "X_test_tfidf_s = vectorizer_s.transform(X_test_s)  # Transform test set using the same vectorizer\n"
      ],
      "metadata": {
        "id": "Ie2_V66taRTE"
      },
      "execution_count": 19,
      "outputs": []
    },
    {
      "cell_type": "code",
      "source": [
        "# For test_sent_emo Dataset\n",
        "vectorizer_e = TfidfVectorizer()\n",
        "X_train_tfidf_e = vectorizer_e.fit_transform(X_train_e)  # Fit on train set\n",
        "X_test_tfidf_e = vectorizer_e.transform(X_test_e)"
      ],
      "metadata": {
        "id": "Gv_y-G2uacQ1"
      },
      "execution_count": 20,
      "outputs": []
    },
    {
      "cell_type": "code",
      "source": [
        "# Shakespeare Sentiment Dataset\n",
        "X_train_tfidf_s, X_val_tfidf_s, X_test_tfidf_s = preprocess_tfidf(X_train_s, X_val_s, X_test_s)\n",
        "\n",
        "# test_sent_emo Dataset\n",
        "X_train_tfidf_e, X_val_tfidf_e, X_test_tfidf_e = preprocess_tfidf(X_train_e, X_val_e, X_test_e)\n"
      ],
      "metadata": {
        "id": "Mn9-R1ss2dVk"
      },
      "execution_count": 13,
      "outputs": []
    },
    {
      "cell_type": "code",
      "source": [
        "from sklearn.metrics import accuracy_score, f1_score, precision_score, recall_score\n",
        "\n",
        "# Function to train and evaluate the model\n",
        "def train_and_evaluate_model(model, X_train, y_train, X_val, y_val, X_test, y_test):\n",
        "    model.fit(X_train, y_train)\n",
        "\n",
        "    # Validation set evaluation\n",
        "    y_val_pred = model.predict(X_val)\n",
        "    print(f\"Validation Accuracy: {accuracy_score(y_val, y_val_pred)}\")\n",
        "    print(f\"Validation F1-score: {f1_score(y_val, y_val_pred, average='weighted')}\")\n",
        "    print(f\"Validation Precision: {precision_score(y_val, y_val_pred, average='weighted')}\")\n",
        "    print(f\"Validation Recall: {recall_score(y_val, y_val_pred, average='weighted')}\")\n",
        "\n",
        "    # Test set evaluation\n",
        "    y_test_pred = model.predict(X_test)\n",
        "    print(f\"Test Accuracy: {accuracy_score(y_test, y_test_pred)}\")\n",
        "    print(f\"Test F1-score: {f1_score(y_test, y_test_pred, average='weighted')}\")\n",
        "    print(f\"Test Precision: {precision_score(y_test, y_test_pred, average='weighted')}\")\n",
        "    print(f\"Test Recall: {recall_score(y_test, y_test_pred, average='weighted')}\")\n",
        "    print(\"\\n\")\n"
      ],
      "metadata": {
        "id": "O7Z1U5432iH6"
      },
      "execution_count": 21,
      "outputs": []
    },
    {
      "cell_type": "code",
      "source": [
        "from sklearn.naive_bayes import MultinomialNB\n",
        "from sklearn.svm import LinearSVC\n",
        "from sklearn.linear_model import LogisticRegression\n",
        "from sklearn.linear_model import SGDClassifier\n",
        "\n",
        "# Initialize the models\n",
        "naive_bayes = MultinomialNB()\n",
        "linear_svc = LinearSVC()\n",
        "logistic_regression = LogisticRegression(max_iter=1000)\n",
        "sgd_classifier = SGDClassifier()\n"
      ],
      "metadata": {
        "id": "yO324lPp22Lk"
      },
      "execution_count": 22,
      "outputs": []
    },
    {
      "cell_type": "code",
      "source": [
        "# Naive Bayes on Shakespeare Sentiment Dataset\n",
        "print(\"Naive Bayes Model Results for Shakespeare Sentiment Dataset:\")\n",
        "train_and_evaluate_model(naive_bayes, X_train_tfidf_s, y_train_s, X_val_tfidf_s, y_val_s, X_test_tfidf_s, y_test_s)\n",
        "\n",
        "# Linear SVC on Shakespeare Sentiment Dataset\n",
        "print(\"Linear SVC Model Results for Shakespeare Sentiment Dataset:\")\n",
        "train_and_evaluate_model(linear_svc, X_train_tfidf_s, y_train_s, X_val_tfidf_s, y_val_s, X_test_tfidf_s, y_test_s)\n",
        "\n",
        "# Logistic Regression on Shakespeare Sentiment Dataset\n",
        "print(\"Logistic Regression Model Results for Shakespeare Sentiment Dataset:\")\n",
        "train_and_evaluate_model(logistic_regression, X_train_tfidf_s, y_train_s, X_val_tfidf_s, y_val_s, X_test_tfidf_s, y_test_s)\n",
        "\n",
        "# SGD Classifier on Shakespeare Sentiment Dataset\n",
        "print(\"SGD Classifier Model Results for Shakespeare Sentiment Dataset:\")\n",
        "train_and_evaluate_model(sgd_classifier, X_train_tfidf_s, y_train_s, X_val_tfidf_s, y_val_s, X_test_tfidf_s, y_test_s)\n"
      ],
      "metadata": {
        "colab": {
          "base_uri": "https://localhost:8080/"
        },
        "id": "SLjvdhyF25pA",
        "outputId": "910e6f5b-51c4-4bbb-f065-6489a0e73aa0"
      },
      "execution_count": 23,
      "outputs": [
        {
          "output_type": "stream",
          "name": "stdout",
          "text": [
            "Naive Bayes Model Results for Shakespeare Sentiment Dataset:\n",
            "Validation Accuracy: 0.6233766233766234\n",
            "Validation F1-score: 0.5014489642588816\n",
            "Validation Precision: 0.6261471861471861\n",
            "Validation Recall: 0.6233766233766234\n",
            "Test Accuracy: 0.7532467532467533\n",
            "Test F1-score: 0.6581210996795412\n",
            "Test Precision: 0.685064935064935\n",
            "Test Recall: 0.7532467532467533\n",
            "\n",
            "\n",
            "Linear SVC Model Results for Shakespeare Sentiment Dataset:\n",
            "Validation Accuracy: 0.6493506493506493\n",
            "Validation F1-score: 0.611594009192637\n",
            "Validation Precision: 0.6138028638028638\n",
            "Validation Recall: 0.6493506493506493\n",
            "Test Accuracy: 0.7922077922077922\n",
            "Test F1-score: 0.7288961038961039\n",
            "Test Precision: 0.6920919456130724\n",
            "Test Recall: 0.7922077922077922\n",
            "\n",
            "\n",
            "Logistic Regression Model Results for Shakespeare Sentiment Dataset:\n",
            "Validation Accuracy: 0.6363636363636364\n",
            "Validation F1-score: 0.538762931983271\n",
            "Validation Precision: 0.5811688311688312\n",
            "Validation Recall: 0.6363636363636364\n",
            "Test Accuracy: 0.7792207792207793\n",
            "Test F1-score: 0.7041355590973911\n",
            "Test Precision: 0.7000702000702\n",
            "Test Recall: 0.7792207792207793\n",
            "\n",
            "\n",
            "SGD Classifier Model Results for Shakespeare Sentiment Dataset:\n",
            "Validation Accuracy: 0.6103896103896104\n",
            "Validation F1-score: 0.5867513872809548\n",
            "Validation Precision: 0.5880159940310317\n",
            "Validation Recall: 0.6103896103896104\n",
            "Test Accuracy: 0.7792207792207793\n",
            "Test F1-score: 0.7574684268899144\n",
            "Test Precision: 0.7508116883116883\n",
            "Test Recall: 0.7792207792207793\n",
            "\n",
            "\n"
          ]
        },
        {
          "output_type": "stream",
          "name": "stderr",
          "text": [
            "/usr/local/lib/python3.10/dist-packages/sklearn/metrics/_classification.py:1531: UndefinedMetricWarning: Precision is ill-defined and being set to 0.0 in labels with no predicted samples. Use `zero_division` parameter to control this behavior.\n",
            "  _warn_prf(average, modifier, f\"{metric.capitalize()} is\", len(result))\n",
            "/usr/local/lib/python3.10/dist-packages/sklearn/metrics/_classification.py:1531: UndefinedMetricWarning: Precision is ill-defined and being set to 0.0 in labels with no predicted samples. Use `zero_division` parameter to control this behavior.\n",
            "  _warn_prf(average, modifier, f\"{metric.capitalize()} is\", len(result))\n",
            "/usr/local/lib/python3.10/dist-packages/sklearn/metrics/_classification.py:1531: UndefinedMetricWarning: Precision is ill-defined and being set to 0.0 in labels with no predicted samples. Use `zero_division` parameter to control this behavior.\n",
            "  _warn_prf(average, modifier, f\"{metric.capitalize()} is\", len(result))\n",
            "/usr/local/lib/python3.10/dist-packages/sklearn/metrics/_classification.py:1531: UndefinedMetricWarning: Precision is ill-defined and being set to 0.0 in labels with no predicted samples. Use `zero_division` parameter to control this behavior.\n",
            "  _warn_prf(average, modifier, f\"{metric.capitalize()} is\", len(result))\n",
            "/usr/local/lib/python3.10/dist-packages/sklearn/metrics/_classification.py:1531: UndefinedMetricWarning: Precision is ill-defined and being set to 0.0 in labels with no predicted samples. Use `zero_division` parameter to control this behavior.\n",
            "  _warn_prf(average, modifier, f\"{metric.capitalize()} is\", len(result))\n"
          ]
        }
      ]
    },
    {
      "cell_type": "code",
      "source": [
        "# Naive Bayes on test_sent_emo Dataset\n",
        "print(\"Naive Bayes Model Results for test_sent_emo Dataset:\")\n",
        "train_and_evaluate_model(naive_bayes, X_train_tfidf_e, y_train_e, X_val_tfidf_e, y_val_e, X_test_tfidf_e, y_test_e)\n",
        "\n",
        "# Linear SVC on test_sent_emo Dataset\n",
        "print(\"Linear SVC Model Results for test_sent_emo Dataset:\")\n",
        "train_and_evaluate_model(linear_svc, X_train_tfidf_e, y_train_e, X_val_tfidf_e, y_val_e, X_test_tfidf_e, y_test_e)\n",
        "\n",
        "# Logistic Regression on test_sent_emo Dataset\n",
        "print(\"Logistic Regression Model Results for test_sent_emo Dataset:\")\n",
        "train_and_evaluate_model(logistic_regression, X_train_tfidf_e, y_train_e, X_val_tfidf_e, y_val_e, X_test_tfidf_e, y_test_e)\n",
        "\n",
        "# SGD Classifier on test_sent_emo Dataset\n",
        "print(\"SGD Classifier Model Results for test_sent_emo Dataset:\")\n",
        "train_and_evaluate_model(sgd_classifier, X_train_tfidf_e, y_train_e, X_val_tfidf_e, y_val_e, X_test_tfidf_e, y_test_e)\n"
      ],
      "metadata": {
        "colab": {
          "base_uri": "https://localhost:8080/"
        },
        "id": "0r3VV-vT2_sZ",
        "outputId": "0a001ae0-03ca-40c5-d75b-efb25c881ff4"
      },
      "execution_count": 17,
      "outputs": [
        {
          "output_type": "stream",
          "name": "stdout",
          "text": [
            "Naive Bayes Model Results for test_sent_emo Dataset:\n",
            "Validation Accuracy: 0.5440613026819924\n",
            "Validation F1-score: 0.45021312246998973\n",
            "Validation Precision: 0.5621485793899588\n",
            "Validation Recall: 0.5440613026819924\n",
            "Test Accuracy: 0.5517241379310345\n",
            "Test F1-score: 0.47708998245602413\n",
            "Test Precision: 0.6605641143219146\n",
            "Test Recall: 0.5517241379310345\n",
            "\n",
            "\n",
            "Linear SVC Model Results for test_sent_emo Dataset:\n",
            "Validation Accuracy: 0.5478927203065134\n",
            "Validation F1-score: 0.5404329481382222\n",
            "Validation Precision: 0.5393722993815565\n",
            "Validation Recall: 0.5478927203065134\n",
            "Test Accuracy: 0.5095785440613027\n",
            "Test F1-score: 0.5018737848095116\n",
            "Test Precision: 0.5027362401266726\n",
            "Test Recall: 0.5095785440613027\n",
            "\n",
            "\n",
            "Logistic Regression Model Results for test_sent_emo Dataset:\n",
            "Validation Accuracy: 0.5823754789272031\n",
            "Validation F1-score: 0.5630544527933582\n",
            "Validation Precision: 0.5772529626659538\n",
            "Validation Recall: 0.5823754789272031\n",
            "Test Accuracy: 0.5287356321839081\n",
            "Test F1-score: 0.5101086712073247\n",
            "Test Precision: 0.5247772938927362\n",
            "Test Recall: 0.5287356321839081\n",
            "\n",
            "\n",
            "SGD Classifier Model Results for test_sent_emo Dataset:\n",
            "Validation Accuracy: 0.5555555555555556\n",
            "Validation F1-score: 0.5519684447415983\n",
            "Validation Precision: 0.5503223256096819\n",
            "Validation Recall: 0.5555555555555556\n",
            "Test Accuracy: 0.5057471264367817\n",
            "Test F1-score: 0.5013786533303498\n",
            "Test Precision: 0.5009671923193508\n",
            "Test Recall: 0.5057471264367817\n",
            "\n",
            "\n"
          ]
        }
      ]
    }
  ]
}